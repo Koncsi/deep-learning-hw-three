{
 "cells": [
  {
   "cell_type": "code",
   "execution_count": 1,
   "metadata": {
    "collapsed": true
   },
   "outputs": [],
   "source": [
    "import numpy as np\n",
    "import pandas as pd\n",
    "import torch\n",
    "from torch.utils.data import Dataset, DataLoader\n",
    "from torch.autograd import Variable\n",
    "from torch.optim import Adam\n",
    "import torch.nn.functional as F\n",
    "\n",
    "import matplotlib.pyplot as plt\n",
    "import matplotlib.dates\n",
    "\n",
    "from sklearn.utils import shuffle\n",
    "import copy\n",
    "\n",
    "%matplotlib inline"
   ]
  },
  {
   "cell_type": "markdown",
   "metadata": {},
   "source": [
    "# Adatok\n",
    "Az adathalmaz kicsi, 741 adatot tartalmaz. Az http://idojarasbudapest.hu/archivalt-idojaras oldalról lett kinyerve. Minden év napi minimum és maximum értéke szerepel 2011-től kezdve, viszont csak a Szeptember-December közti időszak lett elmentve. Célom a megadott időpontokban(október, november) a lehető legjobb becslés megadása, így eldobtam azokat az adatokat amik nem a cél körülötti időszakot ölelik fel. Így kevesebb adatom lett, viszont a feladat is kicsit könnyebbé vált a háló számára."
   ]
  },
  {
   "cell_type": "code",
   "execution_count": 2,
   "metadata": {},
   "outputs": [
    {
     "data": {
      "text/html": [
       "<div>\n",
       "<style>\n",
       "    .dataframe thead tr:only-child th {\n",
       "        text-align: right;\n",
       "    }\n",
       "\n",
       "    .dataframe thead th {\n",
       "        text-align: left;\n",
       "    }\n",
       "\n",
       "    .dataframe tbody tr th {\n",
       "        vertical-align: top;\n",
       "    }\n",
       "</style>\n",
       "<table border=\"1\" class=\"dataframe\">\n",
       "  <thead>\n",
       "    <tr style=\"text-align: right;\">\n",
       "      <th></th>\n",
       "      <th>year</th>\n",
       "      <th>month</th>\n",
       "      <th>day</th>\n",
       "      <th>max</th>\n",
       "      <th>min</th>\n",
       "    </tr>\n",
       "  </thead>\n",
       "  <tbody>\n",
       "    <tr>\n",
       "      <th>0</th>\n",
       "      <td>2015</td>\n",
       "      <td>11</td>\n",
       "      <td>1</td>\n",
       "      <td>16.0</td>\n",
       "      <td>3.0</td>\n",
       "    </tr>\n",
       "    <tr>\n",
       "      <th>1</th>\n",
       "      <td>2015</td>\n",
       "      <td>11</td>\n",
       "      <td>2</td>\n",
       "      <td>13.0</td>\n",
       "      <td>3.0</td>\n",
       "    </tr>\n",
       "    <tr>\n",
       "      <th>2</th>\n",
       "      <td>2015</td>\n",
       "      <td>11</td>\n",
       "      <td>3</td>\n",
       "      <td>13.0</td>\n",
       "      <td>4.0</td>\n",
       "    </tr>\n",
       "    <tr>\n",
       "      <th>3</th>\n",
       "      <td>2015</td>\n",
       "      <td>11</td>\n",
       "      <td>4</td>\n",
       "      <td>13.0</td>\n",
       "      <td>3.0</td>\n",
       "    </tr>\n",
       "    <tr>\n",
       "      <th>4</th>\n",
       "      <td>2015</td>\n",
       "      <td>11</td>\n",
       "      <td>5</td>\n",
       "      <td>15.0</td>\n",
       "      <td>7.0</td>\n",
       "    </tr>\n",
       "  </tbody>\n",
       "</table>\n",
       "</div>"
      ],
      "text/plain": [
       "   year  month  day   max  min\n",
       "0  2015     11    1  16.0  3.0\n",
       "1  2015     11    2  13.0  3.0\n",
       "2  2015     11    3  13.0  4.0\n",
       "3  2015     11    4  13.0  3.0\n",
       "4  2015     11    5  15.0  7.0"
      ]
     },
     "execution_count": 2,
     "metadata": {},
     "output_type": "execute_result"
    }
   ],
   "source": [
    "df = pd.read_csv(\"weather_data.csv\")\n",
    "df.head()"
   ]
  },
  {
   "cell_type": "code",
   "execution_count": 3,
   "metadata": {},
   "outputs": [
    {
     "data": {
      "text/plain": [
       "(741, 5)"
      ]
     },
     "execution_count": 3,
     "metadata": {},
     "output_type": "execute_result"
    }
   ],
   "source": [
    "df.shape"
   ]
  },
  {
   "cell_type": "code",
   "execution_count": 4,
   "metadata": {
    "collapsed": true
   },
   "outputs": [],
   "source": [
    "df.year = df.year.astype(str)\n",
    "df.month = df.month.astype(str)\n",
    "df.day = df.day.astype(str)\n",
    "df[\"date\"] = df[[\"year\", \"month\", \"day\"]].apply(lambda x: ''.join(x), axis=1)\n",
    "\n",
    "df[\"date\"] = pd.to_datetime(df[\"date\"], format='%Y%m%d')"
   ]
  },
  {
   "cell_type": "code",
   "execution_count": 5,
   "metadata": {},
   "outputs": [
    {
     "data": {
      "image/png": "[encoded data removed]",
      "text/plain": [
       "<matplotlib.figure.Figure at 0x7fe6c27bb400>"
      ]
     },
     "metadata": {},
     "output_type": "display_data"
    }
   ],
   "source": [
    "mask0 = (df[\"date\"] >= '2014-10-01') & (df[\"date\"] <= '2014-10-31')\n",
    "mask1 = (df[\"date\"] >= '2015-10-01') & (df[\"date\"] <= '2015-10-31')\n",
    "mask2 = (df[\"date\"] >= '2016-10-01') & (df[\"date\"] <= '2016-10-31')\n",
    "selected1 = df.loc[mask0]\n",
    "selected2 = df.loc[mask1]\n",
    "selected3 = df.loc[mask2]\n",
    "okt = np.arange(1,32,1)\n",
    "\n",
    "plt.plot(okt, selected1[\"max\"], \"r\", okt, selected2[\"max\"], \"g\", okt, selected3[\"max\"], \"b\")\n",
    "plt.show()"
   ]
  },
  {
   "cell_type": "markdown",
   "metadata": {},
   "source": [
    "Az ábra a 2014-2016 közti októberi hőmérsékleteket jeleníti meg. Látható hogy csak minimális a korreláció az adatok közt(az azért látható, hogy csökken tíz fokot a hőmérséklet)."
   ]
  },
  {
   "cell_type": "markdown",
   "metadata": {},
   "source": [
    "# Háló\n",
    "Elsősorban min-maxolom az adatokat. A legrégebbi adat 2011-es, viszont a maximumot 2018-ban határoztam mag, hogy nagyjából 1 szórású, de még a jövőben is kiértékelhető legyen. Úgyanígy hónapoknál szeptember a minimum december a maximum."
   ]
  },
  {
   "cell_type": "code",
   "execution_count": 6,
   "metadata": {
    "collapsed": true
   },
   "outputs": [],
   "source": [
    "def min_max_datedata(date, reverse=False):\n",
    "    if not reverse:\n",
    "        y = (date[0] - 2011)/(2018-2011)\n",
    "        m = (date[1] - 8)/(12-8)\n",
    "        d = (date[2] - 1)/(31-1)\n",
    "    else:\n",
    "        y = date[0]*(2018-2011) + 2011\n",
    "        m = date[1]*(12 - 8) + 8\n",
    "        d = date[2]*(31 - 1) + 1\n",
    "    return np.array([y,m,d]).astype('float')\n",
    "\n",
    "def min_max_tempdata(temps, reverse=False):\n",
    "    if not reverse:\n",
    "        max = (temps[0] + 20)/(50 + 20)\n",
    "        min = (temps[1] + 20)/(50 + 20)\n",
    "    else:\n",
    "        max = temps[0]*(50+20) - 20\n",
    "        min = temps[1]*(50 + 20) - 20\n",
    "    return np.array([max, min]).astype('float')"
   ]
  },
  {
   "cell_type": "markdown",
   "metadata": {},
   "source": [
    "A háló a bemeneten megkapja a dátum három értékét és ez alapján megbecsüli a dátumhoz kapcsolódó minimum és maximum hőméréskletértéket."
   ]
  },
  {
   "cell_type": "code",
   "execution_count": 7,
   "metadata": {
    "collapsed": true
   },
   "outputs": [],
   "source": [
    "class WeatherDataset(Dataset):\n",
    "\n",
    "    def __init__(self, data_frame): \n",
    "        self.data_tensor = data_frame[['year','month','day']].as_matrix()\n",
    "        self.target_tensor = data_frame[['max','min']].as_matrix()\n",
    "\n",
    "    def __len__(self):\n",
    "        return len(self.data_tensor)\n",
    "\n",
    "    def __getitem__(self, item):\n",
    "        return min_max_datedata(self.data_tensor[item]), min_max_tempdata(self.target_tensor[item])\n",
    "\n",
    "\n",
    "class WeatherNet(torch.nn.Module):\n",
    "    \n",
    "    def __init__(self, D_in, D_out):\n",
    "        super(WeatherNet, self).__init__()\n",
    "\n",
    "        self.layer1 = torch.nn.Linear(D_in, 30)\n",
    "        self.layer2 = torch.nn.Linear(30, 6)\n",
    "        self.layer3 = torch.nn.Linear(6, D_out)\n",
    "\n",
    "    def forward(self, X):\n",
    "        y_ = F.relu(self.layer1(X))\n",
    "        y_ = F.relu(self.layer2(y_))\n",
    "        y_ = F.relu(self.layer3(y_))\n",
    "\n",
    "        return y_"
   ]
  },
  {
   "cell_type": "markdown",
   "metadata": {},
   "source": [
    "A kevés mintaadat miatt kereszt-validációt alkalmaztam 10:1 arányban és a tesztadatokat sem a .csv fájlban található adatokból különítettem el, hanem az adatgyűjtés és notebook írása között keletkező adatok vannak erre felhasználva."
   ]
  },
  {
   "cell_type": "code",
   "execution_count": 8,
   "metadata": {
    "collapsed": true
   },
   "outputs": [],
   "source": [
    "def df_to_multiple_dfs(df):\n",
    "    dfs = []\n",
    "    size = df.shape[0]\n",
    "    prev_i = 0\n",
    "    for i in range(int(size/10), size, int(size/10)):\n",
    "        dfs.append(df.iloc[prev_i:i])\n",
    "        prev_i = i\n",
    "    \n",
    "    return dfs\n",
    "\n",
    "def train():\n",
    "    # Network dimensions\n",
    "    D_in, D_out, batch = 3, 2, 16\n",
    "    dtype = torch.FloatTensor\n",
    "    \n",
    "    # Reading and shuffle data\n",
    "    df = pd.read_csv(\"weather_data.csv\")\n",
    "    df = shuffle(df)\n",
    "    \n",
    "    # Split the shufled data\n",
    "    dfs = df_to_multiple_dfs(df)\n",
    "    \n",
    "    # Build the network\n",
    "    net = WeatherNet(D_in, D_out)\n",
    "\n",
    "    # Define the loss and the optimizer\n",
    "    criteria = torch.nn.MSELoss()\n",
    "    optimizer = Adam(net.parameters())\n",
    "\n",
    "    # Variables for early stopping\n",
    "    best_model = copy.deepcopy(net)\n",
    "    patience = 0\n",
    "    prev_valid_loss = float(\"inf\")\n",
    "    \n",
    "    for epoch in range(100):\n",
    "        running_loss = 0.0\n",
    "      \n",
    "        # Cross validation cycle\n",
    "        for k in range(10):\n",
    "            # One part of the data is the validation set, the rest is the train set\n",
    "            df_valid = dfs[k]\n",
    "            df_train = pd.concat(dfs[:k] + dfs[k+1:])\n",
    "            \n",
    "            # Push data to Pytorch dataset\n",
    "            ds_valid = WeatherDataset(df_valid)\n",
    "            ds_train = WeatherDataset(df_train)\n",
    "            \n",
    "            # Push data to a Pytorch DataLoader\n",
    "            dl_valid = DataLoader(ds_valid, batch_size=batch, shuffle=False, pin_memory=False, drop_last=True)\n",
    "            dl_train = DataLoader(ds_train, batch_size=batch, shuffle=False, pin_memory=False, drop_last=True)\n",
    "\n",
    "            # Train cycle\n",
    "            for i, data in enumerate(dl_train,0):\n",
    "                # Convert data to torch variable\n",
    "                X, y = data\n",
    "                X, y = Variable(X.type(dtype)), Variable(y.type(dtype))\n",
    "                \n",
    "                # clearing gradients\n",
    "                optimizer.zero_grad()\n",
    "\n",
    "                # Making the prediction and propagating the loss back\n",
    "                y_ = net(X)\n",
    "                loss = criteria(y_, y)\n",
    "                loss.backward()\n",
    "                optimizer.step()\n",
    "\n",
    "                running_loss += loss.data[0]\n",
    "                if i % 20 == 19:\n",
    "                    print('Epoch %d, Train iteration: %5d,  loss: %.3f' %\n",
    "                          (epoch + 1, i + 1, running_loss / 20))\n",
    "                    running_loss = 0.0\n",
    "                    \n",
    "            valid_loss = 0.0\n",
    "            n = 0\n",
    "            # Validation cycle\n",
    "            for i, data in enumerate(dl_valid,0):\n",
    "                n+=1\n",
    "                # Convert data to torch variable\n",
    "                X, y = data    \n",
    "                X, y = Variable(X.type(dtype)), Variable(y.type(dtype))\n",
    "                \n",
    "                # Making the prediction and compute the loss\n",
    "                y_ = net(X)\n",
    "                loss = criteria(y_, y)\n",
    "\n",
    "                valid_loss += loss.data[0]\n",
    "            valid_loss = valid_loss/n\n",
    "            print('Epoch: %d, Cross valid cycle: %5d, valid_loss: %.3f' % (epoch + 1, k + 1, valid_loss))\n",
    "            \n",
    "            # Early stopping\n",
    "            if prev_valid_loss < valid_loss:\n",
    "                patience += 1\n",
    "            else:\n",
    "                prev_valid_loss = valid_loss\n",
    "                patience = 0\n",
    "                best_model = copy.deepcopy(net)\n",
    "            \n",
    "            if patience > 10:\n",
    "                print(\"Early stopping...\")\n",
    "                net = best_model\n",
    "                break\n",
    "        \n",
    "        if patience > 10:\n",
    "            break\n",
    "            \n",
    "\n",
    "    print('Training finished')\n",
    "    return net"
   ]
  },
  {
   "cell_type": "code",
   "execution_count": 9,
   "metadata": {},
   "outputs": [
    {
     "name": "stdout",
     "output_type": "stream",
     "text": [
      "Epoch 1, Train iteration:    20,  loss: 0.083\n",
      "Epoch 1, Train iteration:    40,  loss: 0.078\n",
      "Epoch: 1, Cross valid cycle:     1, valid_loss: 0.083\n",
      "Epoch 1, Train iteration:    20,  loss: 0.084\n",
      "Epoch 1, Train iteration:    40,  loss: 0.076\n",
      "Epoch: 1, Cross valid cycle:     2, valid_loss: 0.082\n",
      "Epoch 1, Train iteration:    20,  loss: 0.082\n",
      "Epoch 1, Train iteration:    40,  loss: 0.074\n",
      "Epoch: 1, Cross valid cycle:     3, valid_loss: 0.082\n",
      "Epoch 1, Train iteration:    20,  loss: 0.082\n",
      "Epoch 1, Train iteration:    40,  loss: 0.074\n",
      "Epoch: 1, Cross valid cycle:     4, valid_loss: 0.076\n",
      "Epoch 1, Train iteration:    20,  loss: 0.081\n",
      "Epoch 1, Train iteration:    40,  loss: 0.074\n",
      "Epoch: 1, Cross valid cycle:     5, valid_loss: 0.079\n",
      "Epoch 1, Train iteration:    20,  loss: 0.082\n",
      "Epoch 1, Train iteration:    40,  loss: 0.074\n",
      "Epoch: 1, Cross valid cycle:     6, valid_loss: 0.073\n",
      "Epoch 1, Train iteration:    20,  loss: 0.082\n",
      "Epoch 1, Train iteration:    40,  loss: 0.074\n",
      "Epoch: 1, Cross valid cycle:     7, valid_loss: 0.072\n",
      "Epoch 1, Train iteration:    20,  loss: 0.082\n",
      "Epoch 1, Train iteration:    40,  loss: 0.073\n",
      "Epoch: 1, Cross valid cycle:     8, valid_loss: 0.077\n",
      "Epoch 1, Train iteration:    20,  loss: 0.082\n",
      "Epoch 1, Train iteration:    40,  loss: 0.073\n",
      "Epoch: 1, Cross valid cycle:     9, valid_loss: 0.080\n",
      "Epoch 1, Train iteration:    20,  loss: 0.082\n",
      "Epoch 1, Train iteration:    40,  loss: 0.075\n",
      "Epoch: 1, Cross valid cycle:    10, valid_loss: 0.068\n",
      "Epoch 2, Train iteration:    20,  loss: 0.077\n",
      "Epoch 2, Train iteration:    40,  loss: 0.073\n",
      "Epoch: 2, Cross valid cycle:     1, valid_loss: 0.079\n",
      "Epoch 2, Train iteration:    20,  loss: 0.080\n",
      "Epoch 2, Train iteration:    40,  loss: 0.073\n",
      "Epoch: 2, Cross valid cycle:     2, valid_loss: 0.079\n",
      "Epoch 2, Train iteration:    20,  loss: 0.080\n",
      "Epoch 2, Train iteration:    40,  loss: 0.073\n",
      "Epoch: 2, Cross valid cycle:     3, valid_loss: 0.081\n",
      "Epoch 2, Train iteration:    20,  loss: 0.082\n",
      "Epoch 2, Train iteration:    40,  loss: 0.073\n",
      "Epoch: 2, Cross valid cycle:     4, valid_loss: 0.076\n",
      "Epoch 2, Train iteration:    20,  loss: 0.081\n",
      "Epoch 2, Train iteration:    40,  loss: 0.073\n",
      "Epoch: 2, Cross valid cycle:     5, valid_loss: 0.079\n",
      "Epoch 2, Train iteration:    20,  loss: 0.082\n",
      "Epoch 2, Train iteration:    40,  loss: 0.074\n",
      "Epoch: 2, Cross valid cycle:     6, valid_loss: 0.073\n",
      "Epoch 2, Train iteration:    20,  loss: 0.082\n",
      "Epoch 2, Train iteration:    40,  loss: 0.074\n",
      "Epoch: 2, Cross valid cycle:     7, valid_loss: 0.072\n",
      "Epoch 2, Train iteration:    20,  loss: 0.082\n",
      "Epoch 2, Train iteration:    40,  loss: 0.073\n",
      "Epoch: 2, Cross valid cycle:     8, valid_loss: 0.077\n",
      "Epoch 2, Train iteration:    20,  loss: 0.082\n",
      "Epoch 2, Train iteration:    40,  loss: 0.073\n",
      "Epoch: 2, Cross valid cycle:     9, valid_loss: 0.080\n",
      "Epoch 2, Train iteration:    20,  loss: 0.082\n",
      "Epoch 2, Train iteration:    40,  loss: 0.075\n",
      "Epoch: 2, Cross valid cycle:    10, valid_loss: 0.068\n",
      "Epoch 3, Train iteration:    20,  loss: 0.077\n",
      "Epoch 3, Train iteration:    40,  loss: 0.073\n",
      "Epoch: 3, Cross valid cycle:     1, valid_loss: 0.079\n",
      "Epoch 3, Train iteration:    20,  loss: 0.080\n",
      "Epoch 3, Train iteration:    40,  loss: 0.073\n",
      "Epoch: 3, Cross valid cycle:     2, valid_loss: 0.079\n",
      "Epoch 3, Train iteration:    20,  loss: 0.080\n",
      "Epoch 3, Train iteration:    40,  loss: 0.073\n",
      "Epoch: 3, Cross valid cycle:     3, valid_loss: 0.081\n",
      "Epoch 3, Train iteration:    20,  loss: 0.082\n",
      "Epoch 3, Train iteration:    40,  loss: 0.073\n",
      "Epoch: 3, Cross valid cycle:     4, valid_loss: 0.076\n",
      "Epoch 3, Train iteration:    20,  loss: 0.081\n",
      "Epoch 3, Train iteration:    40,  loss: 0.073\n",
      "Epoch: 3, Cross valid cycle:     5, valid_loss: 0.079\n",
      "Epoch 3, Train iteration:    20,  loss: 0.081\n",
      "Epoch 3, Train iteration:    40,  loss: 0.074\n",
      "Epoch: 3, Cross valid cycle:     6, valid_loss: 0.073\n",
      "Epoch 3, Train iteration:    20,  loss: 0.081\n",
      "Epoch 3, Train iteration:    40,  loss: 0.074\n",
      "Epoch: 3, Cross valid cycle:     7, valid_loss: 0.072\n",
      "Epoch 3, Train iteration:    20,  loss: 0.081\n",
      "Epoch 3, Train iteration:    40,  loss: 0.073\n",
      "Epoch: 3, Cross valid cycle:     8, valid_loss: 0.077\n",
      "Epoch 3, Train iteration:    20,  loss: 0.081\n",
      "Epoch 3, Train iteration:    40,  loss: 0.073\n",
      "Epoch: 3, Cross valid cycle:     9, valid_loss: 0.080\n",
      "Epoch 3, Train iteration:    20,  loss: 0.081\n",
      "Epoch 3, Train iteration:    40,  loss: 0.075\n",
      "Epoch: 3, Cross valid cycle:    10, valid_loss: 0.068\n",
      "Epoch 4, Train iteration:    20,  loss: 0.077\n",
      "Epoch 4, Train iteration:    40,  loss: 0.073\n",
      "Epoch: 4, Cross valid cycle:     1, valid_loss: 0.079\n",
      "Epoch 4, Train iteration:    20,  loss: 0.080\n",
      "Epoch 4, Train iteration:    40,  loss: 0.073\n",
      "Epoch: 4, Cross valid cycle:     2, valid_loss: 0.079\n",
      "Epoch 4, Train iteration:    20,  loss: 0.080\n",
      "Epoch 4, Train iteration:    40,  loss: 0.073\n",
      "Epoch: 4, Cross valid cycle:     3, valid_loss: 0.081\n",
      "Epoch 4, Train iteration:    20,  loss: 0.082\n",
      "Epoch 4, Train iteration:    40,  loss: 0.073\n",
      "Epoch: 4, Cross valid cycle:     4, valid_loss: 0.076\n",
      "Epoch 4, Train iteration:    20,  loss: 0.081\n",
      "Epoch 4, Train iteration:    40,  loss: 0.073\n",
      "Epoch: 4, Cross valid cycle:     5, valid_loss: 0.079\n",
      "Epoch 4, Train iteration:    20,  loss: 0.081\n",
      "Epoch 4, Train iteration:    40,  loss: 0.074\n",
      "Epoch: 4, Cross valid cycle:     6, valid_loss: 0.073\n",
      "Epoch 4, Train iteration:    20,  loss: 0.081\n",
      "Epoch 4, Train iteration:    40,  loss: 0.074\n",
      "Epoch: 4, Cross valid cycle:     7, valid_loss: 0.072\n",
      "Epoch 4, Train iteration:    20,  loss: 0.081\n",
      "Epoch 4, Train iteration:    40,  loss: 0.073\n",
      "Epoch: 4, Cross valid cycle:     8, valid_loss: 0.077\n",
      "Epoch 4, Train iteration:    20,  loss: 0.081\n",
      "Epoch 4, Train iteration:    40,  loss: 0.073\n",
      "Epoch: 4, Cross valid cycle:     9, valid_loss: 0.080\n",
      "Epoch 4, Train iteration:    20,  loss: 0.081\n",
      "Epoch 4, Train iteration:    40,  loss: 0.075\n",
      "Epoch: 4, Cross valid cycle:    10, valid_loss: 0.068\n",
      "Epoch 5, Train iteration:    20,  loss: 0.077\n",
      "Epoch 5, Train iteration:    40,  loss: 0.073\n",
      "Epoch: 5, Cross valid cycle:     1, valid_loss: 0.079\n",
      "Epoch 5, Train iteration:    20,  loss: 0.080\n",
      "Epoch 5, Train iteration:    40,  loss: 0.073\n",
      "Epoch: 5, Cross valid cycle:     2, valid_loss: 0.079\n",
      "Epoch 5, Train iteration:    20,  loss: 0.080\n",
      "Epoch 5, Train iteration:    40,  loss: 0.073\n",
      "Epoch: 5, Cross valid cycle:     3, valid_loss: 0.081\n",
      "Epoch 5, Train iteration:    20,  loss: 0.082\n",
      "Epoch 5, Train iteration:    40,  loss: 0.073\n",
      "Epoch: 5, Cross valid cycle:     4, valid_loss: 0.076\n",
      "Epoch 5, Train iteration:    20,  loss: 0.081\n",
      "Epoch 5, Train iteration:    40,  loss: 0.073\n",
      "Epoch: 5, Cross valid cycle:     5, valid_loss: 0.079\n",
      "Epoch 5, Train iteration:    20,  loss: 0.081\n",
      "Epoch 5, Train iteration:    40,  loss: 0.074\n",
      "Epoch: 5, Cross valid cycle:     6, valid_loss: 0.073\n",
      "Epoch 5, Train iteration:    20,  loss: 0.081\n",
      "Epoch 5, Train iteration:    40,  loss: 0.074\n",
      "Epoch: 5, Cross valid cycle:     7, valid_loss: 0.072\n",
      "Epoch 5, Train iteration:    20,  loss: 0.081\n",
      "Epoch 5, Train iteration:    40,  loss: 0.073\n",
      "Epoch: 5, Cross valid cycle:     8, valid_loss: 0.077\n",
      "Epoch 5, Train iteration:    20,  loss: 0.081\n",
      "Epoch 5, Train iteration:    40,  loss: 0.073\n",
      "Epoch: 5, Cross valid cycle:     9, valid_loss: 0.080\n",
      "Epoch 5, Train iteration:    20,  loss: 0.081\n",
      "Epoch 5, Train iteration:    40,  loss: 0.075\n",
      "Epoch: 5, Cross valid cycle:    10, valid_loss: 0.068\n",
      "Epoch 6, Train iteration:    20,  loss: 0.077\n",
      "Epoch 6, Train iteration:    40,  loss: 0.073\n",
      "Epoch: 6, Cross valid cycle:     1, valid_loss: 0.079\n",
      "Epoch 6, Train iteration:    20,  loss: 0.080\n",
      "Epoch 6, Train iteration:    40,  loss: 0.073\n",
      "Epoch: 6, Cross valid cycle:     2, valid_loss: 0.079\n",
      "Epoch 6, Train iteration:    20,  loss: 0.080\n",
      "Epoch 6, Train iteration:    40,  loss: 0.073\n",
      "Epoch: 6, Cross valid cycle:     3, valid_loss: 0.081\n",
      "Epoch 6, Train iteration:    20,  loss: 0.082\n",
      "Epoch 6, Train iteration:    40,  loss: 0.073\n",
      "Epoch: 6, Cross valid cycle:     4, valid_loss: 0.076\n",
      "Epoch 6, Train iteration:    20,  loss: 0.081\n",
      "Epoch 6, Train iteration:    40,  loss: 0.073\n",
      "Epoch: 6, Cross valid cycle:     5, valid_loss: 0.079\n",
      "Epoch 6, Train iteration:    20,  loss: 0.081\n",
      "Epoch 6, Train iteration:    40,  loss: 0.074\n",
      "Epoch: 6, Cross valid cycle:     6, valid_loss: 0.073\n",
      "Epoch 6, Train iteration:    20,  loss: 0.081\n",
      "Epoch 6, Train iteration:    40,  loss: 0.074\n",
      "Epoch: 6, Cross valid cycle:     7, valid_loss: 0.072\n",
      "Epoch 6, Train iteration:    20,  loss: 0.081\n",
      "Epoch 6, Train iteration:    40,  loss: 0.073\n",
      "Epoch: 6, Cross valid cycle:     8, valid_loss: 0.077\n",
      "Epoch 6, Train iteration:    20,  loss: 0.081\n",
      "Epoch 6, Train iteration:    40,  loss: 0.073\n",
      "Epoch: 6, Cross valid cycle:     9, valid_loss: 0.080\n",
      "Epoch 6, Train iteration:    20,  loss: 0.081\n",
      "Epoch 6, Train iteration:    40,  loss: 0.075\n",
      "Epoch: 6, Cross valid cycle:    10, valid_loss: 0.068\n",
      "Epoch 7, Train iteration:    20,  loss: 0.077\n",
      "Epoch 7, Train iteration:    40,  loss: 0.073\n",
      "Epoch: 7, Cross valid cycle:     1, valid_loss: 0.079\n",
      "Epoch 7, Train iteration:    20,  loss: 0.080\n"
     ]
    },
    {
     "name": "stdout",
     "output_type": "stream",
     "text": [
      "Epoch 7, Train iteration:    40,  loss: 0.073\n",
      "Epoch: 7, Cross valid cycle:     2, valid_loss: 0.079\n",
      "Epoch 7, Train iteration:    20,  loss: 0.080\n",
      "Epoch 7, Train iteration:    40,  loss: 0.073\n",
      "Epoch: 7, Cross valid cycle:     3, valid_loss: 0.081\n",
      "Epoch 7, Train iteration:    20,  loss: 0.082\n",
      "Epoch 7, Train iteration:    40,  loss: 0.073\n",
      "Epoch: 7, Cross valid cycle:     4, valid_loss: 0.076\n",
      "Epoch 7, Train iteration:    20,  loss: 0.081\n",
      "Epoch 7, Train iteration:    40,  loss: 0.073\n",
      "Epoch: 7, Cross valid cycle:     5, valid_loss: 0.079\n",
      "Epoch 7, Train iteration:    20,  loss: 0.081\n",
      "Epoch 7, Train iteration:    40,  loss: 0.074\n",
      "Epoch: 7, Cross valid cycle:     6, valid_loss: 0.073\n",
      "Epoch 7, Train iteration:    20,  loss: 0.081\n",
      "Epoch 7, Train iteration:    40,  loss: 0.074\n",
      "Epoch: 7, Cross valid cycle:     7, valid_loss: 0.072\n",
      "Epoch 7, Train iteration:    20,  loss: 0.081\n",
      "Epoch 7, Train iteration:    40,  loss: 0.073\n",
      "Epoch: 7, Cross valid cycle:     8, valid_loss: 0.077\n",
      "Epoch 7, Train iteration:    20,  loss: 0.081\n",
      "Epoch 7, Train iteration:    40,  loss: 0.073\n",
      "Epoch: 7, Cross valid cycle:     9, valid_loss: 0.080\n",
      "Epoch 7, Train iteration:    20,  loss: 0.081\n",
      "Epoch 7, Train iteration:    40,  loss: 0.075\n",
      "Epoch: 7, Cross valid cycle:    10, valid_loss: 0.068\n",
      "Epoch 8, Train iteration:    20,  loss: 0.077\n",
      "Epoch 8, Train iteration:    40,  loss: 0.073\n",
      "Epoch: 8, Cross valid cycle:     1, valid_loss: 0.079\n",
      "Early stopping...\n",
      "Training finished\n"
     ]
    }
   ],
   "source": [
    "net = train()"
   ]
  },
  {
   "cell_type": "markdown",
   "metadata": {},
   "source": [
    "Az adatok október 13-ig vannak összeszedve, a tesztadatok 14-től a Notebook írásának napjáig összeszedett adatok lesznek"
   ]
  },
  {
   "cell_type": "code",
   "execution_count": 10,
   "metadata": {},
   "outputs": [],
   "source": [
    "dtype = torch.FloatTensor\n",
    "predictions = []\n",
    "test = [18.4, 20.5, 21, 21.4, 20.5, 18.8, 19.4, 16.9, 16.4, 10.6, 13.1]\n",
    "days = len(test)\n",
    "for i in range(days):\n",
    "    pred = net(Variable(torch.from_numpy(min_max_datedata([2017,10,14 + i]))).type(dtype))\n",
    "    predictions.append(min_max_tempdata(pred.data.numpy(),True)[0])"
   ]
  },
  {
   "cell_type": "code",
   "execution_count": 11,
   "metadata": {},
   "outputs": [
    {
     "data": {
      "image/png": "[encoded data removed]",
      "text/plain": [
       "<matplotlib.figure.Figure at 0x7fe6c077d0f0>"
      ]
     },
     "metadata": {},
     "output_type": "display_data"
    }
   ],
   "source": [
    "days = np.arange(14, 14+days)\n",
    "plt.plot(days, test, \"b\", days, predictions, \"r\")\n",
    "plt.show()"
   ]
  },
  {
   "cell_type": "markdown",
   "metadata": {},
   "source": [
    "# Értékelés\n",
    "A tesztadat grafikonon látni, hogy a neuronháló megtanulta \"átlagolni\" a hőmérsékletet. Nincsenek ugrások mint azt a valódi adatokon látható, hanem szépen követi, hogy mennyit csökken havonta a hőmérséklet. Ez nem is annyira meglepő, mert fentebb láthattuk a tanító adatok vizualizálásánál, hogy amiben hasonlítottak egymásra a grafikonok az kizárólag az volt, hogy ugrásokk mellett a hó végére csökkent a hőmérésklet."
   ]
  },
  {
   "cell_type": "code",
   "execution_count": 12,
   "metadata": {},
   "outputs": [
    {
     "data": {
      "image/png": "[encoded data removed]",
      "text/plain": [
       "<matplotlib.figure.Figure at 0x7fe6bcad4518>"
      ]
     },
     "metadata": {},
     "output_type": "display_data"
    }
   ],
   "source": [
    "predictions1 = []\n",
    "predictions2 = []\n",
    "predictions3 = []\n",
    "\n",
    "days = 30\n",
    "for i in range(1, days+1):\n",
    "    pred1 = net(Variable(torch.from_numpy(min_max_datedata([2017,11,i]))).type(dtype))\n",
    "    pred2 = net(Variable(torch.from_numpy(min_max_datedata([2018,11,i]))).type(dtype))\n",
    "    pred3 = net(Variable(torch.from_numpy(min_max_datedata([2019,11,i]))).type(dtype))\n",
    "    \n",
    "    predictions1.append(min_max_tempdata(pred1.data.numpy(),True)[0])\n",
    "    predictions2.append(min_max_tempdata(pred2.data.numpy(),True)[0])\n",
    "    predictions3.append(min_max_tempdata(pred3.data.numpy(),True)[0])\n",
    "    \n",
    "days = np.arange(0, days)\n",
    "plt.plot(days, predictions1, \"b\", days, predictions2, 'g', days, predictions3, 'r')\n",
    "plt.show()"
   ]
  },
  {
   "cell_type": "markdown",
   "metadata": {},
   "source": [
    "Az háló is tagadja a globális felmelegedést :/"
   ]
  },
  {
   "cell_type": "code",
   "execution_count": 13,
   "metadata": {
    "collapsed": true
   },
   "outputs": [],
   "source": [
    "okthh = net(Variable(torch.from_numpy(min_max_datedata([2017,10,27]))).type(dtype))\n",
    "novh = net(Variable(torch.from_numpy(min_max_datedata([2017,11,3]))).type(dtype))\n",
    "novhn = net(Variable(torch.from_numpy(min_max_datedata([2017,11,24]))).type(dtype))\n",
    "\n",
    "okthh = min_max_tempdata(okthh.data.numpy(),True)[0]\n",
    "novh = min_max_tempdata(novh.data.numpy(),True)[0]\n",
    "novhn = min_max_tempdata(novhn.data.numpy(),True)[0]"
   ]
  },
  {
   "cell_type": "code",
   "execution_count": 14,
   "metadata": {},
   "outputs": [
    {
     "name": "stdout",
     "output_type": "stream",
     "text": [
      "Oktober 27: 12.168781\n",
      "November 3: 11.031572\n",
      "November 24: 7.142982\n"
     ]
    }
   ],
   "source": [
    "print(\"Oktober 27: %f\" % (okthh))\n",
    "print(\"November 3: %f\" % (novh))\n",
    "print(\"November 24: %f\" % (novhn))"
   ]
  },
  {
   "cell_type": "code",
   "execution_count": null,
   "metadata": {
    "collapsed": true
   },
   "outputs": [],
   "source": []
  }
 ],
 "metadata": {
  "kernelspec": {
   "display_name": "Python [conda env:deeplc]",
   "language": "python",
   "name": "conda-env-deeplc-py"
  },
  "language_info": {
   "codemirror_mode": {
    "name": "ipython",
    "version": 3
   },
   "file_extension": ".py",
   "mimetype": "text/x-python",
   "name": "python",
   "nbconvert_exporter": "python",
   "pygments_lexer": "ipython3",
   "version": "3.5.2"
  }
 },
 "nbformat": 4,
 "nbformat_minor": 2
}
